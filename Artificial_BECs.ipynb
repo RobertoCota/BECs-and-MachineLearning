{
 "cells": [
  {
   "cell_type": "code",
   "execution_count": 17,
   "metadata": {},
   "outputs": [],
   "source": [
    "import numpy as np\n",
    "import pandas as pd\n",
    "\n",
    "import seaborn as sns\n",
    "import matplotlib.pyplot as plt\n",
    "\n",
    "%matplotlib inline"
   ]
  },
  {
   "cell_type": "code",
   "execution_count": 18,
   "metadata": {},
   "outputs": [],
   "source": [
    "from matplotlib.colors import LinearSegmentedColormap, BoundaryNorm\n",
    "from matplotlib.ticker import MaxNLocator"
   ]
  },
  {
   "cell_type": "markdown",
   "metadata": {},
   "source": [
    "# Define some colors and contours"
   ]
  },
  {
   "cell_type": "code",
   "execution_count": 19,
   "metadata": {},
   "outputs": [],
   "source": [
    "#Greiner map\n",
    "greiner_data = {\n",
    "    'red': ((0., 1, 1,), (.2, 0, 0), (.48, 0, 0), (.728, 1, 1),(0.912, 1, 1), (1, .5, .5)),\n",
    "    'green': ((0., 1, 1), (.2, 0, 0), (.3, 0, 0), (.5, 1, 1),(.712, 1, 1), (.928, 0, 0), (1, 0, 0)),\n",
    "    'blue': ((0., 1, 1), (.2, .5, .5), (.288, 1, 1), (.472, 1, 1),(.72, 0, 0), (1, 0, 0))\n",
    "                }\n",
    "greiner = LinearSegmentedColormap('greiner',greiner_data)\n",
    "#cmap=greiner\n",
    "levels = MaxNLocator(nbins=15).tick_values(0.015,0.55)\n",
    "norm = BoundaryNorm(levels, ncolors=greiner.N, clip=True)"
   ]
  },
  {
   "cell_type": "markdown",
   "metadata": {},
   "source": [
    "# Creates an array of n numbers between 0-1"
   ]
  },
  {
   "cell_type": "code",
   "execution_count": 20,
   "metadata": {},
   "outputs": [],
   "source": [
    "n=500\n",
    "T_random = []\n",
    "for i in range (500):\n",
    "    T_random.append(np.random.rand())\n",
    "T_random = np.array(T_random)"
   ]
  },
  {
   "cell_type": "code",
   "execution_count": 21,
   "metadata": {},
   "outputs": [
    {
     "data": {
      "text/plain": [
       "(array([52., 43., 53., 40., 50., 50., 46., 65., 41., 60.]),\n",
       " array([0.00129897, 0.10080941, 0.20031986, 0.2998303 , 0.39934075,\n",
       "        0.4988512 , 0.59836164, 0.69787209, 0.79738253, 0.89689298,\n",
       "        0.99640342]),\n",
       " <a list of 10 Patch objects>)"
      ]
     },
     "execution_count": 21,
     "metadata": {},
     "output_type": "execute_result"
    },
    {
     "data": {
      "image/png": "[encoded data removed]",
      "text/plain": [
       "<Figure size 432x288 with 1 Axes>"
      ]
     },
     "metadata": {
      "needs_background": "light"
     },
     "output_type": "display_data"
    }
   ],
   "source": [
    "plt.hist(T_random)"
   ]
  },
  {
   "cell_type": "markdown",
   "metadata": {},
   "source": [
    "# Gausssian distribution and the spread of the thermal cloud"
   ]
  },
  {
   "cell_type": "code",
   "execution_count": 22,
   "metadata": {},
   "outputs": [],
   "source": [
    "def gaussian(x, sigma=1.3):\n",
    "    return (np.sqrt(4.3)/(sigma*np.sqrt(2.0*np.pi)))*np.exp(-(1.0/2.0)*(x/sigma)**2)"
   ]
  },
  {
   "cell_type": "code",
   "execution_count": 23,
   "metadata": {},
   "outputs": [],
   "source": [
    "def sigma_therm(T):\n",
    "    if T>=0 and T<=1:\n",
    "        return 4.0+T\n",
    "    else:\n",
    "        print ('Deja de estar mamando')"
   ]
  },
  {
   "cell_type": "code",
   "execution_count": 24,
   "metadata": {},
   "outputs": [],
   "source": [
    "def bt_ratio(T):\n",
    "    \n",
    "    if T<=0.65:\n",
    "        bec_presence = 2.0/(1.0+np.exp(8.0*(T-0.65))) - 1.0\n",
    "    else:\n",
    "        bec_presence = 0.0\n",
    "        \n",
    "    return bec_presence, 1.0 - bec_presence"
   ]
  },
  {
   "cell_type": "markdown",
   "metadata": {},
   "source": [
    "# Range in space"
   ]
  },
  {
   "cell_type": "code",
   "execution_count": 25,
   "metadata": {},
   "outputs": [],
   "source": [
    "x = np.linspace(-18, 18, num=200)"
   ]
  },
  {
   "cell_type": "markdown",
   "metadata": {},
   "source": [
    "# Let us create the 2D-dimension cloud of atoms"
   ]
  },
  {
   "cell_type": "code",
   "execution_count": 26,
   "metadata": {
    "scrolled": false
   },
   "outputs": [],
   "source": [
    "#Temp = np.linspace(0.0,1.0, 11)[::-1]\n",
    "\n",
    "#plt.figure(figsize=(8,6))\n",
    "#plt.ylim(-0.03,0.45)\n",
    "\n",
    "n=0\n",
    "Double = []\n",
    "for Tt in T_random:\n",
    "    A_bec, A_therm = bt_ratio(Tt)\n",
    "    #print (A_bec, A_therm)\n",
    "\n",
    "    G_therm = gaussian(x=x, sigma=sigma_therm(Tt))\n",
    "    G_bec = gaussian(x=x)\n",
    "\n",
    "    M = 2.0*A_therm*G_therm.reshape(200,1)*G_therm.reshape(1,200) + A_bec*G_bec.reshape(200,1)*G_bec.reshape(1,200)\n",
    "\n",
    "    noise = 0.006*np.random.normal(loc=0.0, scale=1.0, size=M.shape)\n",
    "\n",
    "    M = M + noise/2.0\n",
    "    \n",
    "    #plt.figure(figsize=(5,5))\n",
    "    #plt.contourf(M,cmap='viridis',norm=norm)\n",
    "    #plt.imshow(M)\n",
    "    \n",
    "    np.savetxt('Matrices/Cloud_{}.txt'.format(int(n+1000)),M,fmt='%.18e',delimiter=' ')\n",
    "    \n",
    "    if Tt<=0.65:\n",
    "        Double.append(1)\n",
    "    else:\n",
    "        Double.append(0)\n",
    "    \n",
    "    n+=1\n",
    "\n",
    "np.savetxt('Matrices/Temperature.txt',T_random,fmt='%.2f',delimiter=' ')\n",
    "np.savetxt('Matrices/Target.txt',Double,fmt='%i',delimiter=' ')"
   ]
  },
  {
   "cell_type": "code",
   "execution_count": 27,
   "metadata": {},
   "outputs": [
    {
     "data": {
      "text/plain": [
       "<matplotlib.contour.QuadContourSet at 0x1240bbbe0>"
      ]
     },
     "execution_count": 27,
     "metadata": {},
     "output_type": "execute_result"
    },
    {
     "data": {
      "image/png": "[encoded data removed]",
      "text/plain": [
       "<Figure size 360x360 with 1 Axes>"
      ]
     },
     "metadata": {
      "needs_background": "light"
     },
     "output_type": "display_data"
    }
   ],
   "source": [
    "plt.figure(figsize=(5,5))\n",
    "plt.contourf(M,cmap=plt.cm.gray,norm=norm)"
   ]
  },
  {
   "cell_type": "code",
   "execution_count": 28,
   "metadata": {},
   "outputs": [
    {
     "data": {
      "text/plain": [
       "(-0.1, 1.8)"
      ]
     },
     "execution_count": 28,
     "metadata": {},
     "output_type": "execute_result"
    },
    {
     "data": {
      "image/png": "[encoded data removed]",
      "text/plain": [
       "<Figure size 432x432 with 1 Axes>"
      ]
     },
     "metadata": {
      "needs_background": "light"
     },
     "output_type": "display_data"
    }
   ],
   "source": [
    "plt.figure(figsize=(6,6))\n",
    "plt.plot((M)[100])\n",
    "plt.ylim(-0.1,1.8)"
   ]
  },
  {
   "cell_type": "code",
   "execution_count": 29,
   "metadata": {},
   "outputs": [],
   "source": [
    "y = np.linspace(0,1,200)"
   ]
  },
  {
   "cell_type": "code",
   "execution_count": 30,
   "metadata": {},
   "outputs": [
    {
     "data": {
      "text/plain": [
       "[<matplotlib.lines.Line2D at 0x124717a58>]"
      ]
     },
     "execution_count": 30,
     "metadata": {},
     "output_type": "execute_result"
    },
    {
     "data": {
      "image/png": "[encoded data removed]",
      "text/plain": [
       "<Figure size 432x288 with 1 Axes>"
      ]
     },
     "metadata": {
      "needs_background": "light"
     },
     "output_type": "display_data"
    }
   ],
   "source": [
    "r = list(map(lambda T: 1.48/(1.0+np.exp(8.0*(T-0.65))) - 1 - 0.4*T + 0.52 if T<=0.65 else 0.0, y))\n",
    "plt.plot(y,r)"
   ]
  },
  {
   "cell_type": "code",
   "execution_count": 31,
   "metadata": {},
   "outputs": [
    {
     "name": "stdout",
     "output_type": "stream",
     "text": [
      "0.0\n"
     ]
    }
   ],
   "source": [
    "print (min(r))"
   ]
  },
  {
   "cell_type": "code",
   "execution_count": 32,
   "metadata": {},
   "outputs": [
    {
     "data": {
      "text/plain": [
       "[<matplotlib.lines.Line2D at 0x124869898>]"
      ]
     },
     "execution_count": 32,
     "metadata": {},
     "output_type": "execute_result"
    },
    {
     "data": {
      "image/png": "[encoded data removed]",
      "text/plain": [
       "<Figure size 432x288 with 1 Axes>"
      ]
     },
     "metadata": {
      "needs_background": "light"
     },
     "output_type": "display_data"
    }
   ],
   "source": [
    "r = list(map(lambda T: 1.48/(1.0+np.exp(8.0*(T-0.65))) - 1 - 0.4*T + 0.52 if T<=0.65 else 0.0, y))\n",
    "plt.plot(y,r)"
   ]
  },
  {
   "cell_type": "code",
   "execution_count": null,
   "metadata": {},
   "outputs": [],
   "source": []
  }
 ],
 "metadata": {
  "anaconda-cloud": {},
  "kernelspec": {
   "display_name": "Python [Root]",
   "language": "python",
   "name": "Python [Root]"
  },
  "language_info": {
   "codemirror_mode": {
    "name": "ipython",
    "version": 3
   },
   "file_extension": ".py",
   "mimetype": "text/x-python",
   "name": "python",
   "nbconvert_exporter": "python",
   "pygments_lexer": "ipython3",
   "version": "3.5.2"
  }
 },
 "nbformat": 4,
 "nbformat_minor": 4
}
