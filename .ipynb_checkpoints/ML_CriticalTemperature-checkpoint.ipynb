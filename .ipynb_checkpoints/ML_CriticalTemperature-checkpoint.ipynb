{
 "cells": [
  {
   "cell_type": "code",
   "execution_count": 41,
   "metadata": {},
   "outputs": [],
   "source": [
    "import numpy as np\n",
    "import pandas as pd\n",
    "\n",
    "import seaborn as sns\n",
    "import matplotlib.pyplot as plt\n",
    "\n",
    "from os import listdir\n",
    "\n",
    "%matplotlib inline"
   ]
  },
  {
   "cell_type": "code",
   "execution_count": 72,
   "metadata": {},
   "outputs": [],
   "source": [
    "folder = 'Matrices/'"
   ]
  },
  {
   "cell_type": "code",
   "execution_count": 79,
   "metadata": {},
   "outputs": [],
   "source": [
    "list_files = [f for f in listdir(folder) if f.endswith('.txt') and 'Cloud' in f]\n",
    "list_files.sort()"
   ]
  },
  {
   "cell_type": "code",
   "execution_count": 80,
   "metadata": {},
   "outputs": [],
   "source": [
    "n = len(list_files)"
   ]
  },
  {
   "cell_type": "code",
   "execution_count": 81,
   "metadata": {},
   "outputs": [],
   "source": [
    "Clouds = np.zeros((n,40000))"
   ]
  },
  {
   "cell_type": "code",
   "execution_count": 82,
   "metadata": {},
   "outputs": [],
   "source": [
    "for i in range(len(list_files)):\n",
    "    Clouds[i,:] = np.loadtxt(folder+list_files[i]).reshape(-1) "
   ]
  },
  {
   "cell_type": "code",
   "execution_count": 83,
   "metadata": {},
   "outputs": [],
   "source": [
    "dat = Clouds/Clouds.max()\n",
    "df = pd.DataFrame(data=dat, dtype='float64')"
   ]
  },
  {
   "cell_type": "code",
   "execution_count": 84,
   "metadata": {},
   "outputs": [],
   "source": [
    "df['Temperature'] = np.loadtxt(folder+'Temperature.txt')"
   ]
  },
  {
   "cell_type": "code",
   "execution_count": 85,
   "metadata": {},
   "outputs": [],
   "source": [
    "df['Double structure'] = np.loadtxt(folder+'Target.txt')"
   ]
  },
  {
   "cell_type": "code",
   "execution_count": 88,
   "metadata": {},
   "outputs": [
    {
     "data": {
      "text/html": [
       "<div>\n",
       "<style scoped>\n",
       "    .dataframe tbody tr th:only-of-type {\n",
       "        vertical-align: middle;\n",
       "    }\n",
       "\n",
       "    .dataframe tbody tr th {\n",
       "        vertical-align: top;\n",
       "    }\n",
       "\n",
       "    .dataframe thead th {\n",
       "        text-align: right;\n",
       "    }\n",
       "</style>\n",
       "<table border=\"1\" class=\"dataframe\">\n",
       "  <thead>\n",
       "    <tr style=\"text-align: right;\">\n",
       "      <th></th>\n",
       "      <th>0</th>\n",
       "      <th>1</th>\n",
       "      <th>2</th>\n",
       "      <th>3</th>\n",
       "      <th>4</th>\n",
       "      <th>5</th>\n",
       "      <th>6</th>\n",
       "      <th>7</th>\n",
       "      <th>8</th>\n",
       "      <th>9</th>\n",
       "      <th>...</th>\n",
       "      <th>39992</th>\n",
       "      <th>39993</th>\n",
       "      <th>39994</th>\n",
       "      <th>39995</th>\n",
       "      <th>39996</th>\n",
       "      <th>39997</th>\n",
       "      <th>39998</th>\n",
       "      <th>39999</th>\n",
       "      <th>Temperature</th>\n",
       "      <th>Double structure</th>\n",
       "    </tr>\n",
       "  </thead>\n",
       "  <tbody>\n",
       "    <tr>\n",
       "      <th>0</th>\n",
       "      <td>0.004396</td>\n",
       "      <td>0.012269</td>\n",
       "      <td>0.004943</td>\n",
       "      <td>0.000786</td>\n",
       "      <td>-0.001864</td>\n",
       "      <td>0.000523</td>\n",
       "      <td>-0.005252</td>\n",
       "      <td>0.002382</td>\n",
       "      <td>0.015224</td>\n",
       "      <td>0.012951</td>\n",
       "      <td>...</td>\n",
       "      <td>0.002421</td>\n",
       "      <td>0.004104</td>\n",
       "      <td>0.007309</td>\n",
       "      <td>0.003412</td>\n",
       "      <td>0.006510</td>\n",
       "      <td>0.012275</td>\n",
       "      <td>0.007050</td>\n",
       "      <td>0.005660</td>\n",
       "      <td>0.56</td>\n",
       "      <td>1.0</td>\n",
       "    </tr>\n",
       "    <tr>\n",
       "      <th>1</th>\n",
       "      <td>-0.004437</td>\n",
       "      <td>-0.004618</td>\n",
       "      <td>-0.008598</td>\n",
       "      <td>-0.004259</td>\n",
       "      <td>-0.002238</td>\n",
       "      <td>0.016654</td>\n",
       "      <td>0.001298</td>\n",
       "      <td>-0.002149</td>\n",
       "      <td>-0.002342</td>\n",
       "      <td>-0.005851</td>\n",
       "      <td>...</td>\n",
       "      <td>0.002657</td>\n",
       "      <td>0.002531</td>\n",
       "      <td>0.008558</td>\n",
       "      <td>-0.001768</td>\n",
       "      <td>0.003378</td>\n",
       "      <td>-0.000757</td>\n",
       "      <td>0.000040</td>\n",
       "      <td>0.006988</td>\n",
       "      <td>0.34</td>\n",
       "      <td>1.0</td>\n",
       "    </tr>\n",
       "    <tr>\n",
       "      <th>2</th>\n",
       "      <td>-0.001947</td>\n",
       "      <td>-0.007481</td>\n",
       "      <td>-0.007840</td>\n",
       "      <td>-0.000182</td>\n",
       "      <td>-0.010254</td>\n",
       "      <td>-0.007295</td>\n",
       "      <td>0.006740</td>\n",
       "      <td>-0.003416</td>\n",
       "      <td>0.004072</td>\n",
       "      <td>0.012002</td>\n",
       "      <td>...</td>\n",
       "      <td>0.005986</td>\n",
       "      <td>-0.014152</td>\n",
       "      <td>-0.001443</td>\n",
       "      <td>-0.008277</td>\n",
       "      <td>0.004841</td>\n",
       "      <td>0.007783</td>\n",
       "      <td>-0.009985</td>\n",
       "      <td>0.000333</td>\n",
       "      <td>0.77</td>\n",
       "      <td>0.0</td>\n",
       "    </tr>\n",
       "    <tr>\n",
       "      <th>3</th>\n",
       "      <td>0.012083</td>\n",
       "      <td>0.002458</td>\n",
       "      <td>0.000565</td>\n",
       "      <td>-0.003540</td>\n",
       "      <td>0.005139</td>\n",
       "      <td>0.010817</td>\n",
       "      <td>-0.004909</td>\n",
       "      <td>-0.004675</td>\n",
       "      <td>0.000277</td>\n",
       "      <td>0.004512</td>\n",
       "      <td>...</td>\n",
       "      <td>-0.010388</td>\n",
       "      <td>0.000943</td>\n",
       "      <td>0.000221</td>\n",
       "      <td>0.002509</td>\n",
       "      <td>-0.006623</td>\n",
       "      <td>0.000955</td>\n",
       "      <td>0.000163</td>\n",
       "      <td>-0.006895</td>\n",
       "      <td>0.14</td>\n",
       "      <td>1.0</td>\n",
       "    </tr>\n",
       "    <tr>\n",
       "      <th>4</th>\n",
       "      <td>-0.001120</td>\n",
       "      <td>-0.008992</td>\n",
       "      <td>0.002132</td>\n",
       "      <td>-0.013249</td>\n",
       "      <td>0.000347</td>\n",
       "      <td>0.004930</td>\n",
       "      <td>-0.001163</td>\n",
       "      <td>0.007965</td>\n",
       "      <td>0.014791</td>\n",
       "      <td>-0.002760</td>\n",
       "      <td>...</td>\n",
       "      <td>0.005756</td>\n",
       "      <td>0.005446</td>\n",
       "      <td>0.002103</td>\n",
       "      <td>-0.002098</td>\n",
       "      <td>-0.003315</td>\n",
       "      <td>0.005372</td>\n",
       "      <td>0.003083</td>\n",
       "      <td>0.005376</td>\n",
       "      <td>0.39</td>\n",
       "      <td>1.0</td>\n",
       "    </tr>\n",
       "  </tbody>\n",
       "</table>\n",
       "<p>5 rows × 40002 columns</p>\n",
       "</div>"
      ],
      "text/plain": [
       "          0         1         2         3         4         5         6  \\\n",
       "0  0.004396  0.012269  0.004943  0.000786 -0.001864  0.000523 -0.005252   \n",
       "1 -0.004437 -0.004618 -0.008598 -0.004259 -0.002238  0.016654  0.001298   \n",
       "2 -0.001947 -0.007481 -0.007840 -0.000182 -0.010254 -0.007295  0.006740   \n",
       "3  0.012083  0.002458  0.000565 -0.003540  0.005139  0.010817 -0.004909   \n",
       "4 -0.001120 -0.008992  0.002132 -0.013249  0.000347  0.004930 -0.001163   \n",
       "\n",
       "          7         8         9  ...     39992     39993     39994     39995  \\\n",
       "0  0.002382  0.015224  0.012951  ...  0.002421  0.004104  0.007309  0.003412   \n",
       "1 -0.002149 -0.002342 -0.005851  ...  0.002657  0.002531  0.008558 -0.001768   \n",
       "2 -0.003416  0.004072  0.012002  ...  0.005986 -0.014152 -0.001443 -0.008277   \n",
       "3 -0.004675  0.000277  0.004512  ... -0.010388  0.000943  0.000221  0.002509   \n",
       "4  0.007965  0.014791 -0.002760  ...  0.005756  0.005446  0.002103 -0.002098   \n",
       "\n",
       "      39996     39997     39998     39999  Temperature  Double structure  \n",
       "0  0.006510  0.012275  0.007050  0.005660         0.56               1.0  \n",
       "1  0.003378 -0.000757  0.000040  0.006988         0.34               1.0  \n",
       "2  0.004841  0.007783 -0.009985  0.000333         0.77               0.0  \n",
       "3 -0.006623  0.000955  0.000163 -0.006895         0.14               1.0  \n",
       "4 -0.003315  0.005372  0.003083  0.005376         0.39               1.0  \n",
       "\n",
       "[5 rows x 40002 columns]"
      ]
     },
     "execution_count": 88,
     "metadata": {},
     "output_type": "execute_result"
    }
   ],
   "source": [
    "df.head()"
   ]
  },
  {
   "cell_type": "code",
   "execution_count": 89,
   "metadata": {},
   "outputs": [
    {
     "data": {
      "text/plain": [
       "<matplotlib.axes._subplots.AxesSubplot at 0x12d9d17f0>"
      ]
     },
     "execution_count": 89,
     "metadata": {},
     "output_type": "execute_result"
    },
    {
     "data": {
      "image/png": "[encoded data removed]",
      "text/plain": [
       "<Figure size 432x288 with 1 Axes>"
      ]
     },
     "metadata": {
      "needs_background": "light"
     },
     "output_type": "display_data"
    }
   ],
   "source": [
    "sns.countplot(x='Double structure', data=df)"
   ]
  },
  {
   "cell_type": "code",
   "execution_count": 110,
   "metadata": {},
   "outputs": [
    {
     "data": {
      "text/html": [
       "<div>\n",
       "<style scoped>\n",
       "    .dataframe tbody tr th:only-of-type {\n",
       "        vertical-align: middle;\n",
       "    }\n",
       "\n",
       "    .dataframe tbody tr th {\n",
       "        vertical-align: top;\n",
       "    }\n",
       "\n",
       "    .dataframe thead th {\n",
       "        text-align: right;\n",
       "    }\n",
       "</style>\n",
       "<table border=\"1\" class=\"dataframe\">\n",
       "  <thead>\n",
       "    <tr style=\"text-align: right;\">\n",
       "      <th></th>\n",
       "      <th>Temperature</th>\n",
       "      <th>Double structure</th>\n",
       "    </tr>\n",
       "  </thead>\n",
       "  <tbody>\n",
       "    <tr>\n",
       "      <th>Temperature</th>\n",
       "      <td>1.000000</td>\n",
       "      <td>-0.833067</td>\n",
       "    </tr>\n",
       "    <tr>\n",
       "      <th>Double structure</th>\n",
       "      <td>-0.833067</td>\n",
       "      <td>1.000000</td>\n",
       "    </tr>\n",
       "  </tbody>\n",
       "</table>\n",
       "</div>"
      ],
      "text/plain": [
       "                  Temperature  Double structure\n",
       "Temperature          1.000000         -0.833067\n",
       "Double structure    -0.833067          1.000000"
      ]
     },
     "execution_count": 110,
     "metadata": {},
     "output_type": "execute_result"
    }
   ],
   "source": [
    "df[['Temperature', 'Double structure']].corr()"
   ]
  },
  {
   "cell_type": "code",
   "execution_count": 111,
   "metadata": {},
   "outputs": [
    {
     "data": {
      "text/plain": [
       "<matplotlib.axes._subplots.AxesSubplot at 0x137560f98>"
      ]
     },
     "execution_count": 111,
     "metadata": {},
     "output_type": "execute_result"
    },
    {
     "data": {
      "image/png": "[encoded data removed]",
      "text/plain": [
       "<Figure size 432x288 with 1 Axes>"
      ]
     },
     "metadata": {
      "needs_background": "light"
     },
     "output_type": "display_data"
    }
   ],
   "source": [
    "sns.scatterplot(x='Temperature', y='Double structure', data=df, hue='Double structure')"
   ]
  },
  {
   "cell_type": "markdown",
   "metadata": {},
   "source": [
    "# Train and test data split"
   ]
  },
  {
   "cell_type": "code",
   "execution_count": 112,
   "metadata": {},
   "outputs": [],
   "source": [
    "from sklearn.model_selection import train_test_split"
   ]
  },
  {
   "cell_type": "code",
   "execution_count": 124,
   "metadata": {},
   "outputs": [],
   "source": [
    "X = df.drop('Double structure', axis=1)\n",
    "y = df['Double structure']\n",
    "X_train, X_test, y_train, y_test = train_test_split(X, y, test_size=0.3)"
   ]
  },
  {
   "cell_type": "code",
   "execution_count": 125,
   "metadata": {},
   "outputs": [
    {
     "data": {
      "text/plain": [
       "350"
      ]
     },
     "execution_count": 125,
     "metadata": {},
     "output_type": "execute_result"
    }
   ],
   "source": [
    "dat2 = pd.concat((X_train,y_train), axis=1)\n",
    "len(dat2)"
   ]
  },
  {
   "cell_type": "code",
   "execution_count": 126,
   "metadata": {},
   "outputs": [
    {
     "data": {
      "text/plain": [
       "288"
      ]
     },
     "execution_count": 126,
     "metadata": {},
     "output_type": "execute_result"
    }
   ],
   "source": [
    "dat_train = dat2[(dat2['Temperature']<0.58) | (dat2['Temperature']>0.75)]\n",
    "len(dat_train)"
   ]
  },
  {
   "cell_type": "code",
   "execution_count": 127,
   "metadata": {},
   "outputs": [
    {
     "data": {
      "text/plain": [
       "<matplotlib.axes._subplots.AxesSubplot at 0x14869d2e8>"
      ]
     },
     "execution_count": 127,
     "metadata": {},
     "output_type": "execute_result"
    },
    {
     "data": {
      "image/png": "[encoded data removed]",
      "text/plain": [
       "<Figure size 432x288 with 1 Axes>"
      ]
     },
     "metadata": {
      "needs_background": "light"
     },
     "output_type": "display_data"
    }
   ],
   "source": [
    "sns.distplot(dat_train['Temperature'],bins=20,kde=False)"
   ]
  },
  {
   "cell_type": "code",
   "execution_count": 128,
   "metadata": {},
   "outputs": [
    {
     "data": {
      "text/plain": [
       "<matplotlib.axes._subplots.AxesSubplot at 0x13754b438>"
      ]
     },
     "execution_count": 128,
     "metadata": {},
     "output_type": "execute_result"
    },
    {
     "data": {
      "image/png": "[encoded data removed]",
      "text/plain": [
       "<Figure size 432x288 with 1 Axes>"
      ]
     },
     "metadata": {
      "needs_background": "light"
     },
     "output_type": "display_data"
    }
   ],
   "source": [
    "sns.scatterplot(x='Temperature', y='Double structure', data=dat_train, hue='Double structure')"
   ]
  },
  {
   "cell_type": "code",
   "execution_count": 129,
   "metadata": {},
   "outputs": [],
   "source": [
    "X_train = dat_train.drop(['Temperature','Double structure'],axis=1)\n",
    "y_train = dat_train['Double structure']"
   ]
  },
  {
   "cell_type": "markdown",
   "metadata": {},
   "source": [
    "# Model selection"
   ]
  },
  {
   "cell_type": "markdown",
   "metadata": {},
   "source": [
    "**Random forest**"
   ]
  },
  {
   "cell_type": "code",
   "execution_count": 130,
   "metadata": {},
   "outputs": [],
   "source": [
    "from sklearn.metrics import classification_report, confusion_matrix\n",
    "from sklearn.ensemble import RandomForestClassifier"
   ]
  },
  {
   "cell_type": "code",
   "execution_count": 131,
   "metadata": {},
   "outputs": [],
   "source": [
    "forest = RandomForestClassifier(n_estimators=300)"
   ]
  },
  {
   "cell_type": "code",
   "execution_count": 132,
   "metadata": {},
   "outputs": [
    {
     "data": {
      "text/plain": [
       "RandomForestClassifier(bootstrap=True, ccp_alpha=0.0, class_weight=None,\n",
       "                       criterion='gini', max_depth=None, max_features='auto',\n",
       "                       max_leaf_nodes=None, max_samples=None,\n",
       "                       min_impurity_decrease=0.0, min_impurity_split=None,\n",
       "                       min_samples_leaf=1, min_samples_split=2,\n",
       "                       min_weight_fraction_leaf=0.0, n_estimators=300,\n",
       "                       n_jobs=None, oob_score=False, random_state=None,\n",
       "                       verbose=0, warm_start=False)"
      ]
     },
     "execution_count": 132,
     "metadata": {},
     "output_type": "execute_result"
    }
   ],
   "source": [
    "forest.fit(X_train, y_train)"
   ]
  },
  {
   "cell_type": "code",
   "execution_count": 133,
   "metadata": {},
   "outputs": [],
   "source": [
    "predictions_forest = forest.predict(X_test.drop('Temperature', axis=1))"
   ]
  },
  {
   "cell_type": "code",
   "execution_count": 134,
   "metadata": {},
   "outputs": [
    {
     "name": "stdout",
     "output_type": "stream",
     "text": [
      "[[66  0]\n",
      " [10 74]]\n",
      "\n",
      "\n",
      "              precision    recall  f1-score   support\n",
      "\n",
      "         0.0       0.87      1.00      0.93        66\n",
      "         1.0       1.00      0.88      0.94        84\n",
      "\n",
      "    accuracy                           0.93       150\n",
      "   macro avg       0.93      0.94      0.93       150\n",
      "weighted avg       0.94      0.93      0.93       150\n",
      "\n"
     ]
    }
   ],
   "source": [
    "print (confusion_matrix(y_test, predictions_forest))\n",
    "print('\\n')\n",
    "print (classification_report(y_test, predictions_forest))"
   ]
  },
  {
   "cell_type": "markdown",
   "metadata": {},
   "source": [
    "**Support vector classification**"
   ]
  },
  {
   "cell_type": "code",
   "execution_count": 135,
   "metadata": {},
   "outputs": [],
   "source": [
    "from sklearn.svm import SVC\n",
    "from sklearn.model_selection import GridSearchCV"
   ]
  },
  {
   "cell_type": "code",
   "execution_count": 136,
   "metadata": {},
   "outputs": [],
   "source": [
    "svc = SVC()"
   ]
  },
  {
   "cell_type": "code",
   "execution_count": 137,
   "metadata": {},
   "outputs": [
    {
     "data": {
      "text/plain": [
       "SVC(C=1.0, break_ties=False, cache_size=200, class_weight=None, coef0=0.0,\n",
       "    decision_function_shape='ovr', degree=3, gamma='scale', kernel='rbf',\n",
       "    max_iter=-1, probability=False, random_state=None, shrinking=True,\n",
       "    tol=0.001, verbose=False)"
      ]
     },
     "execution_count": 137,
     "metadata": {},
     "output_type": "execute_result"
    }
   ],
   "source": [
    "svc.fit(X_train, y_train)"
   ]
  },
  {
   "cell_type": "code",
   "execution_count": 138,
   "metadata": {},
   "outputs": [],
   "source": [
    "predictions_svc = svc.predict(X_test.drop('Temperature', axis=1))"
   ]
  },
  {
   "cell_type": "code",
   "execution_count": 139,
   "metadata": {},
   "outputs": [
    {
     "name": "stdout",
     "output_type": "stream",
     "text": [
      "[[66  0]\n",
      " [ 9 75]]\n",
      "\n",
      "\n",
      "              precision    recall  f1-score   support\n",
      "\n",
      "         0.0       0.88      1.00      0.94        66\n",
      "         1.0       1.00      0.89      0.94        84\n",
      "\n",
      "    accuracy                           0.94       150\n",
      "   macro avg       0.94      0.95      0.94       150\n",
      "weighted avg       0.95      0.94      0.94       150\n",
      "\n"
     ]
    }
   ],
   "source": [
    "print (confusion_matrix(y_test, predictions_svc))\n",
    "print('\\n')\n",
    "print (classification_report(y_test, predictions_svc))"
   ]
  },
  {
   "cell_type": "markdown",
   "metadata": {},
   "source": [
    "**Optimize the parameters**"
   ]
  },
  {
   "cell_type": "code",
   "execution_count": 140,
   "metadata": {},
   "outputs": [],
   "source": [
    "param_grid1 = dict(C=[0.1,0.5,1,5,10,100],gamma = [10,5,2,1,1e-1,1e-2,1e-3])\n",
    "grid = GridSearchCV(SVC(),param_grid=param_grid1)"
   ]
  },
  {
   "cell_type": "code",
   "execution_count": null,
   "metadata": {},
   "outputs": [],
   "source": [
    "grid.fit(X_train, y_train)"
   ]
  },
  {
   "cell_type": "code",
   "execution_count": 33,
   "metadata": {},
   "outputs": [],
   "source": [
    "predictions_grid = grid.predict(X_test.drop('Temperature', axis=1))"
   ]
  },
  {
   "cell_type": "code",
   "execution_count": 34,
   "metadata": {},
   "outputs": [
    {
     "data": {
      "text/plain": [
       "{'C': 0.1, 'gamma': 0.1}"
      ]
     },
     "execution_count": 34,
     "metadata": {},
     "output_type": "execute_result"
    }
   ],
   "source": [
    "grid.best_params_"
   ]
  },
  {
   "cell_type": "code",
   "execution_count": 35,
   "metadata": {},
   "outputs": [
    {
     "name": "stdout",
     "output_type": "stream",
     "text": [
      "[[27  0]\n",
      " [ 4 29]]\n",
      "\n",
      "\n",
      "              precision    recall  f1-score   support\n",
      "\n",
      "         0.0       0.87      1.00      0.93        27\n",
      "         1.0       1.00      0.88      0.94        33\n",
      "\n",
      "    accuracy                           0.93        60\n",
      "   macro avg       0.94      0.94      0.93        60\n",
      "weighted avg       0.94      0.93      0.93        60\n",
      "\n"
     ]
    }
   ],
   "source": [
    "print (confusion_matrix(y_test, predictions_grid))\n",
    "print('\\n')\n",
    "print (classification_report(y_test, predictions_grid))"
   ]
  },
  {
   "cell_type": "code",
   "execution_count": 36,
   "metadata": {},
   "outputs": [],
   "source": [
    "dat_f = pd.DataFrame(X_test['Temperature'])"
   ]
  },
  {
   "cell_type": "code",
   "execution_count": 37,
   "metadata": {},
   "outputs": [],
   "source": [
    "dat_f['True value'] = y_test\n",
    "dat_f['Pred value'] = predictions_grid+0.1"
   ]
  },
  {
   "cell_type": "code",
   "execution_count": 38,
   "metadata": {},
   "outputs": [
    {
     "data": {
      "text/plain": [
       "<matplotlib.legend.Legend at 0x144123d30>"
      ]
     },
     "execution_count": 38,
     "metadata": {},
     "output_type": "execute_result"
    },
    {
     "data": {
      "image/png": "[encoded data removed]",
      "text/plain": [
       "<Figure size 864x288 with 1 Axes>"
      ]
     },
     "metadata": {
      "needs_background": "light"
     },
     "output_type": "display_data"
    }
   ],
   "source": [
    "plt.figure(figsize=(12,4))\n",
    "sns.scatterplot(x='Temperature', y='Double structure',data=dat_train,color='g',alpha=0.5,edgecolor='g',s=70)\n",
    "sns.scatterplot(x='Temperature', y='Pred value', data=dat_f, hue='True value', edgecolor=None, s=30)\n",
    "plt.savefig('Figure_Output.pdf')\n",
    "plt.legend()"
   ]
  },
  {
   "cell_type": "code",
   "execution_count": 39,
   "metadata": {},
   "outputs": [],
   "source": [
    "training_set = pd.concat((X_train, y_train), axis=1)"
   ]
  },
  {
   "cell_type": "code",
   "execution_count": 40,
   "metadata": {},
   "outputs": [
    {
     "data": {
      "text/plain": [
       "113"
      ]
     },
     "execution_count": 40,
     "metadata": {},
     "output_type": "execute_result"
    }
   ],
   "source": [
    "len(dat_train)"
   ]
  },
  {
   "cell_type": "markdown",
   "metadata": {},
   "source": [
    "# Start over and use temperature column to train"
   ]
  },
  {
   "cell_type": "code",
   "execution_count": null,
   "metadata": {},
   "outputs": [],
   "source": [
    "df.head()"
   ]
  },
  {
   "cell_type": "code",
   "execution_count": null,
   "metadata": {},
   "outputs": [],
   "source": [
    "X = df.drop('Double structure', axis=1)\n",
    "y = df['Double structure']\n",
    "X_train, X_test, y_train, y_test = train_test_split(X, y, test_size=0.25)"
   ]
  }
 ],
 "metadata": {
  "anaconda-cloud": {},
  "kernelspec": {
   "display_name": "Python [Root]",
   "language": "python",
   "name": "Python [Root]"
  },
  "language_info": {
   "codemirror_mode": {
    "name": "ipython",
    "version": 3
   },
   "file_extension": ".py",
   "mimetype": "text/x-python",
   "name": "python",
   "nbconvert_exporter": "python",
   "pygments_lexer": "ipython3",
   "version": "3.5.2"
  }
 },
 "nbformat": 4,
 "nbformat_minor": 4
}
